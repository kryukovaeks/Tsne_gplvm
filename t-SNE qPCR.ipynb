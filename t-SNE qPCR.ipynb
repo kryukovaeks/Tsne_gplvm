{
 "cells": [
  {
   "cell_type": "code",
   "execution_count": 10,
   "metadata": {},
   "outputs": [],
   "source": [
    "import os\n",
    "\n",
    "os.environ['KMP_DUPLICATE_LIB_OK']='True'\n",
    "import matplotlib.pyplot as plt\n",
    "import pandas as pd\n",
    "import numpy as np\n",
    "import matplotlib\n",
    "from mpl_toolkits.mplot3d import Axes3D\n",
    "from sklearn import model_selection\n",
    "from sklearn.manifold import TSNE\n",
    "from sklearn.decomposition import PCA\n",
    "from sklearn.neighbors import KNeighborsClassifier\n",
    "%matplotlib inline\n",
    "from matplotlib.lines import Line2D\n",
    "sizeTitle = 24\n",
    "sizeAxis = 14"
   ]
  },
  {
   "cell_type": "markdown",
   "metadata": {},
   "source": [
    "### Dataset"
   ]
  },
  {
   "cell_type": "markdown",
   "metadata": {},
   "source": [
    "The data we are going to use consists of [single-cell](https://en.wikipedia.org/wiki/Single-cell_analysis) [qPCR](https://en.wikipedia.org/wiki/Real-time_polymerase_chain_reaction) data for 48 genes obtained from mice (Guo *et al.*, [1]). This data is available at the [Open Data Science repository](https://github.com/sods/ods). The data contains 48 columns, with each column corresponding to (normalized) measurements of each gene. Cells differentiate during their development and these data were obtained at various stages of development. The various stages are labelled from the 1-cell stage to the 64-cell stage. For the 32-cell stage, the data is further differentiated into 'trophectoderm' (TE) and 'inner cell mass' (ICM). ICM further differentiates into 'epiblast' (EPI) and 'primitive endoderm' (PE) at the 64-cell stage. Each of the rows in the dataset is labelled with one of these stages."
   ]
  },
  {
   "cell_type": "code",
   "execution_count": 11,
   "metadata": {
    "scrolled": false
   },
   "outputs": [
    {
     "name": "stdout",
     "output_type": "stream",
     "text": [
      "Data shape: (437, 48)\n",
      "---------------------\n",
      "\n",
      "Data labels: ['1', '2', '4', '8', '16', '32 TE', '32 ICM', '64 PE', '64 TE', '64 EPI']\n",
      "--------------------------------------------------------------------------------------\n",
      "\n"
     ]
    },
    {
     "data": {
      "text/html": [
       "<div>\n",
       "<style scoped>\n",
       "    .dataframe tbody tr th:only-of-type {\n",
       "        vertical-align: middle;\n",
       "    }\n",
       "\n",
       "    .dataframe tbody tr th {\n",
       "        vertical-align: top;\n",
       "    }\n",
       "\n",
       "    .dataframe thead th {\n",
       "        text-align: right;\n",
       "    }\n",
       "</style>\n",
       "<table border=\"1\" class=\"dataframe\">\n",
       "  <thead>\n",
       "    <tr style=\"text-align: right;\">\n",
       "      <th></th>\n",
       "      <th>Actb</th>\n",
       "      <th>Ahcy</th>\n",
       "      <th>Aqp3</th>\n",
       "      <th>Atp12a</th>\n",
       "      <th>Bmp4</th>\n",
       "      <th>Cdx2</th>\n",
       "      <th>Creb312</th>\n",
       "      <th>Cebpa</th>\n",
       "      <th>Dab2</th>\n",
       "      <th>DppaI</th>\n",
       "      <th>...</th>\n",
       "      <th>Sox2</th>\n",
       "      <th>Sall4</th>\n",
       "      <th>Sox17</th>\n",
       "      <th>Snail</th>\n",
       "      <th>Sox13</th>\n",
       "      <th>Tcfap2a</th>\n",
       "      <th>Tcfap2c</th>\n",
       "      <th>Tcf23</th>\n",
       "      <th>Utf1</th>\n",
       "      <th>Tspan8</th>\n",
       "    </tr>\n",
       "  </thead>\n",
       "  <tbody>\n",
       "    <tr>\n",
       "      <th>1</th>\n",
       "      <td>0.541050</td>\n",
       "      <td>-1.203007</td>\n",
       "      <td>1.030746</td>\n",
       "      <td>1.064808</td>\n",
       "      <td>0.494782</td>\n",
       "      <td>-0.167143</td>\n",
       "      <td>-1.369092</td>\n",
       "      <td>1.083061</td>\n",
       "      <td>0.668057</td>\n",
       "      <td>-1.553758</td>\n",
       "      <td>...</td>\n",
       "      <td>-1.351757</td>\n",
       "      <td>-1.793476</td>\n",
       "      <td>0.783185</td>\n",
       "      <td>-1.408063</td>\n",
       "      <td>-0.031991</td>\n",
       "      <td>-0.351257</td>\n",
       "      <td>-1.078982</td>\n",
       "      <td>0.942981</td>\n",
       "      <td>1.348892</td>\n",
       "      <td>-1.051999</td>\n",
       "    </tr>\n",
       "    <tr>\n",
       "      <th>1</th>\n",
       "      <td>0.680832</td>\n",
       "      <td>-1.355306</td>\n",
       "      <td>2.456375</td>\n",
       "      <td>1.234350</td>\n",
       "      <td>0.645494</td>\n",
       "      <td>1.003868</td>\n",
       "      <td>-1.207595</td>\n",
       "      <td>1.208023</td>\n",
       "      <td>0.800388</td>\n",
       "      <td>-1.435306</td>\n",
       "      <td>...</td>\n",
       "      <td>-1.363533</td>\n",
       "      <td>-1.782172</td>\n",
       "      <td>1.532477</td>\n",
       "      <td>-1.361172</td>\n",
       "      <td>-0.501715</td>\n",
       "      <td>1.082362</td>\n",
       "      <td>-0.930112</td>\n",
       "      <td>1.064399</td>\n",
       "      <td>1.469397</td>\n",
       "      <td>-0.996275</td>\n",
       "    </tr>\n",
       "    <tr>\n",
       "      <th>1</th>\n",
       "      <td>1.056038</td>\n",
       "      <td>-1.280447</td>\n",
       "      <td>2.046133</td>\n",
       "      <td>1.439795</td>\n",
       "      <td>0.828121</td>\n",
       "      <td>0.983404</td>\n",
       "      <td>-1.460032</td>\n",
       "      <td>1.359447</td>\n",
       "      <td>0.530701</td>\n",
       "      <td>-1.340283</td>\n",
       "      <td>...</td>\n",
       "      <td>-1.296802</td>\n",
       "      <td>-1.567402</td>\n",
       "      <td>3.194157</td>\n",
       "      <td>-1.301777</td>\n",
       "      <td>-0.445219</td>\n",
       "      <td>0.031284</td>\n",
       "      <td>-1.005767</td>\n",
       "      <td>1.211529</td>\n",
       "      <td>1.615421</td>\n",
       "      <td>-0.651393</td>\n",
       "    </tr>\n",
       "    <tr>\n",
       "      <th>1</th>\n",
       "      <td>0.732331</td>\n",
       "      <td>-1.326911</td>\n",
       "      <td>2.464234</td>\n",
       "      <td>1.244323</td>\n",
       "      <td>0.654359</td>\n",
       "      <td>0.947023</td>\n",
       "      <td>-1.265609</td>\n",
       "      <td>1.215373</td>\n",
       "      <td>0.765212</td>\n",
       "      <td>-1.431401</td>\n",
       "      <td>...</td>\n",
       "      <td>-1.684100</td>\n",
       "      <td>-1.915556</td>\n",
       "      <td>2.962515</td>\n",
       "      <td>-1.349710</td>\n",
       "      <td>1.875957</td>\n",
       "      <td>1.699892</td>\n",
       "      <td>-1.059458</td>\n",
       "      <td>1.071541</td>\n",
       "      <td>1.476485</td>\n",
       "      <td>-0.699586</td>\n",
       "    </tr>\n",
       "    <tr>\n",
       "      <th>1</th>\n",
       "      <td>0.629333</td>\n",
       "      <td>-1.244308</td>\n",
       "      <td>1.316815</td>\n",
       "      <td>1.304162</td>\n",
       "      <td>0.707552</td>\n",
       "      <td>1.429070</td>\n",
       "      <td>-0.895578</td>\n",
       "      <td>-0.007785</td>\n",
       "      <td>0.644606</td>\n",
       "      <td>-1.381937</td>\n",
       "      <td>...</td>\n",
       "      <td>-1.304653</td>\n",
       "      <td>-1.761825</td>\n",
       "      <td>1.265379</td>\n",
       "      <td>-1.320533</td>\n",
       "      <td>-0.609864</td>\n",
       "      <td>0.413826</td>\n",
       "      <td>-0.888624</td>\n",
       "      <td>1.114394</td>\n",
       "      <td>1.519017</td>\n",
       "      <td>-0.798985</td>\n",
       "    </tr>\n",
       "  </tbody>\n",
       "</table>\n",
       "<p>5 rows × 48 columns</p>\n",
       "</div>"
      ],
      "text/plain": [
       "       Actb      Ahcy      Aqp3    Atp12a      Bmp4      Cdx2   Creb312  \\\n",
       "1  0.541050 -1.203007  1.030746  1.064808  0.494782 -0.167143 -1.369092   \n",
       "1  0.680832 -1.355306  2.456375  1.234350  0.645494  1.003868 -1.207595   \n",
       "1  1.056038 -1.280447  2.046133  1.439795  0.828121  0.983404 -1.460032   \n",
       "1  0.732331 -1.326911  2.464234  1.244323  0.654359  0.947023 -1.265609   \n",
       "1  0.629333 -1.244308  1.316815  1.304162  0.707552  1.429070 -0.895578   \n",
       "\n",
       "      Cebpa      Dab2     DppaI  ...      Sox2     Sall4     Sox17     Snail  \\\n",
       "1  1.083061  0.668057 -1.553758  ... -1.351757 -1.793476  0.783185 -1.408063   \n",
       "1  1.208023  0.800388 -1.435306  ... -1.363533 -1.782172  1.532477 -1.361172   \n",
       "1  1.359447  0.530701 -1.340283  ... -1.296802 -1.567402  3.194157 -1.301777   \n",
       "1  1.215373  0.765212 -1.431401  ... -1.684100 -1.915556  2.962515 -1.349710   \n",
       "1 -0.007785  0.644606 -1.381937  ... -1.304653 -1.761825  1.265379 -1.320533   \n",
       "\n",
       "      Sox13   Tcfap2a   Tcfap2c     Tcf23      Utf1    Tspan8  \n",
       "1 -0.031991 -0.351257 -1.078982  0.942981  1.348892 -1.051999  \n",
       "1 -0.501715  1.082362 -0.930112  1.064399  1.469397 -0.996275  \n",
       "1 -0.445219  0.031284 -1.005767  1.211529  1.615421 -0.651393  \n",
       "1  1.875957  1.699892 -1.059458  1.071541  1.476485 -0.699586  \n",
       "1 -0.609864  0.413826 -0.888624  1.114394  1.519017 -0.798985  \n",
       "\n",
       "[5 rows x 48 columns]"
      ]
     },
     "execution_count": 11,
     "metadata": {},
     "output_type": "execute_result"
    }
   ],
   "source": [
    "# license: Copyright (c) 2014, the Open Data Science Initiative\n",
    "# license: https://www.elsevier.com/legal/elsevier-website-terms-and-conditions\n",
    "URL = \"https://raw.githubusercontent.com/sods/ods/master/datasets/guo_qpcr.csv\"\n",
    "\n",
    "df = pd.read_csv(URL, index_col=0)\n",
    "print(\"Data shape: {}\\n{}\\n\".format(df.shape, \"-\" * 21))\n",
    "print(\"Data labels: {}\\n{}\\n\".format(df.index.unique().tolist(), \"-\" * 86))\n",
    "df.head()"
   ]
  },
  {
   "cell_type": "markdown",
   "metadata": {},
   "source": [
    "# T-SNE"
   ]
  },
  {
   "cell_type": "code",
   "execution_count": 12,
   "metadata": {},
   "outputs": [],
   "source": [
    "df_T=df\n",
    "labels = df.index.unique()"
   ]
  },
  {
   "cell_type": "code",
   "execution_count": 17,
   "metadata": {},
   "outputs": [
    {
     "name": "stdout",
     "output_type": "stream",
     "text": [
      "[t-SNE] Computing 16 nearest neighbors...\n",
      "[t-SNE] Indexed 437 samples in 0.000s...\n",
      "[t-SNE] Computed neighbors for 437 samples in 0.005s...\n",
      "[t-SNE] Computed conditional probabilities for sample 437 / 437\n",
      "[t-SNE] Mean sigma: 1.297417\n",
      "[t-SNE] KL divergence after 250 iterations with early exaggeration: 74.220642\n",
      "[t-SNE] KL divergence after 251 iterations: 179769313486231570814527423731704356798070567525844996598917476803157260780028538760589558632766878171540458953514382464234321326889464182768467546703537516986049910576551282076245490090389328944075868508455133942304583236903222948165808559332123348274797826204144723168738177180919299881250404026184124858368.000000\n"
     ]
    },
    {
     "data": {
      "image/png": "[encoded data removed]",
      "text/plain": [
       "<Figure size 432x432 with 1 Axes>"
      ]
     },
     "metadata": {
      "needs_background": "light"
     },
     "output_type": "display_data"
    },
    {
     "name": "stdout",
     "output_type": "stream",
     "text": [
      "[t-SNE] Computing 16 nearest neighbors...\n",
      "[t-SNE] Indexed 437 samples in 0.000s...\n",
      "[t-SNE] Computed neighbors for 437 samples in 0.000s...\n",
      "[t-SNE] Computed conditional probabilities for sample 437 / 437\n",
      "[t-SNE] Mean sigma: 1.297417\n"
     ]
    },
    {
     "ename": "KeyboardInterrupt",
     "evalue": "",
     "output_type": "error",
     "traceback": [
      "\u001b[1;31m---------------------------------------------------------------------------\u001b[0m",
      "\u001b[1;31mKeyboardInterrupt\u001b[0m                         Traceback (most recent call last)",
      "\u001b[1;32m<ipython-input-17-bd4c83b2f302>\u001b[0m in \u001b[0;36m<module>\u001b[1;34m\u001b[0m\n\u001b[0;32m      9\u001b[0m             \u001b[1;31m#t-SNE\u001b[0m\u001b[1;33m\u001b[0m\u001b[1;33m\u001b[0m\u001b[1;33m\u001b[0m\u001b[0m\n\u001b[0;32m     10\u001b[0m             \u001b[0mtsne\u001b[0m \u001b[1;33m=\u001b[0m \u001b[0mTSNE\u001b[0m\u001b[1;33m(\u001b[0m\u001b[0mn_components\u001b[0m\u001b[1;33m=\u001b[0m\u001b[1;36m2\u001b[0m\u001b[1;33m,\u001b[0m \u001b[0mverbose\u001b[0m\u001b[1;33m=\u001b[0m\u001b[1;36m1\u001b[0m\u001b[1;33m,\u001b[0m \u001b[0mperplexity\u001b[0m\u001b[1;33m=\u001b[0m\u001b[0mperp\u001b[0m\u001b[1;33m,\u001b[0m \u001b[0mn_iter\u001b[0m\u001b[1;33m=\u001b[0m\u001b[0miter\u001b[0m\u001b[1;33m)\u001b[0m\u001b[1;33m\u001b[0m\u001b[1;33m\u001b[0m\u001b[0m\n\u001b[1;32m---> 11\u001b[1;33m             \u001b[0mtsne_results\u001b[0m \u001b[1;33m=\u001b[0m \u001b[0mtsne\u001b[0m\u001b[1;33m.\u001b[0m\u001b[0mfit_transform\u001b[0m\u001b[1;33m(\u001b[0m\u001b[0mdf_T\u001b[0m\u001b[1;33m.\u001b[0m\u001b[0miloc\u001b[0m\u001b[1;33m[\u001b[0m\u001b[1;33m:\u001b[0m\u001b[1;33m,\u001b[0m\u001b[1;33m:\u001b[0m\u001b[1;33m-\u001b[0m\u001b[1;36m1\u001b[0m\u001b[1;33m]\u001b[0m\u001b[1;33m.\u001b[0m\u001b[0mvalues\u001b[0m\u001b[1;33m)\u001b[0m\u001b[1;33m\u001b[0m\u001b[1;33m\u001b[0m\u001b[0m\n\u001b[0m\u001b[0;32m     12\u001b[0m             \u001b[1;31m#Classification with kNN\u001b[0m\u001b[1;33m\u001b[0m\u001b[1;33m\u001b[0m\u001b[1;33m\u001b[0m\u001b[0m\n\u001b[0;32m     13\u001b[0m             \u001b[0mclassifier\u001b[0m\u001b[1;33m=\u001b[0m\u001b[0mKNeighborsClassifier\u001b[0m\u001b[1;33m(\u001b[0m\u001b[0mn_neighbors\u001b[0m\u001b[1;33m=\u001b[0m\u001b[1;36m5\u001b[0m\u001b[1;33m)\u001b[0m\u001b[1;33m\u001b[0m\u001b[1;33m\u001b[0m\u001b[0m\n",
      "\u001b[1;32mC:\\anaconda3\\lib\\site-packages\\sklearn\\manifold\\_t_sne.py\u001b[0m in \u001b[0;36mfit_transform\u001b[1;34m(self, X, y)\u001b[0m\n\u001b[0;32m    930\u001b[0m             \u001b[0mEmbedding\u001b[0m \u001b[0mof\u001b[0m \u001b[0mthe\u001b[0m \u001b[0mtraining\u001b[0m \u001b[0mdata\u001b[0m \u001b[1;32min\u001b[0m \u001b[0mlow\u001b[0m\u001b[1;33m-\u001b[0m\u001b[0mdimensional\u001b[0m \u001b[0mspace\u001b[0m\u001b[1;33m.\u001b[0m\u001b[1;33m\u001b[0m\u001b[1;33m\u001b[0m\u001b[0m\n\u001b[0;32m    931\u001b[0m         \"\"\"\n\u001b[1;32m--> 932\u001b[1;33m         \u001b[0membedding\u001b[0m \u001b[1;33m=\u001b[0m \u001b[0mself\u001b[0m\u001b[1;33m.\u001b[0m\u001b[0m_fit\u001b[0m\u001b[1;33m(\u001b[0m\u001b[0mX\u001b[0m\u001b[1;33m)\u001b[0m\u001b[1;33m\u001b[0m\u001b[1;33m\u001b[0m\u001b[0m\n\u001b[0m\u001b[0;32m    933\u001b[0m         \u001b[0mself\u001b[0m\u001b[1;33m.\u001b[0m\u001b[0membedding_\u001b[0m \u001b[1;33m=\u001b[0m \u001b[0membedding\u001b[0m\u001b[1;33m\u001b[0m\u001b[1;33m\u001b[0m\u001b[0m\n\u001b[0;32m    934\u001b[0m         \u001b[1;32mreturn\u001b[0m \u001b[0mself\u001b[0m\u001b[1;33m.\u001b[0m\u001b[0membedding_\u001b[0m\u001b[1;33m\u001b[0m\u001b[1;33m\u001b[0m\u001b[0m\n",
      "\u001b[1;32mC:\\anaconda3\\lib\\site-packages\\sklearn\\manifold\\_t_sne.py\u001b[0m in \u001b[0;36m_fit\u001b[1;34m(self, X, skip_num_points)\u001b[0m\n\u001b[0;32m    842\u001b[0m                           \u001b[0mX_embedded\u001b[0m\u001b[1;33m=\u001b[0m\u001b[0mX_embedded\u001b[0m\u001b[1;33m,\u001b[0m\u001b[1;33m\u001b[0m\u001b[1;33m\u001b[0m\u001b[0m\n\u001b[0;32m    843\u001b[0m                           \u001b[0mneighbors\u001b[0m\u001b[1;33m=\u001b[0m\u001b[0mneighbors_nn\u001b[0m\u001b[1;33m,\u001b[0m\u001b[1;33m\u001b[0m\u001b[1;33m\u001b[0m\u001b[0m\n\u001b[1;32m--> 844\u001b[1;33m                           skip_num_points=skip_num_points)\n\u001b[0m\u001b[0;32m    845\u001b[0m \u001b[1;33m\u001b[0m\u001b[0m\n\u001b[0;32m    846\u001b[0m     def _tsne(self, P, degrees_of_freedom, n_samples, X_embedded,\n",
      "\u001b[1;32mC:\\anaconda3\\lib\\site-packages\\sklearn\\manifold\\_t_sne.py\u001b[0m in \u001b[0;36m_tsne\u001b[1;34m(self, P, degrees_of_freedom, n_samples, X_embedded, neighbors, skip_num_points)\u001b[0m\n\u001b[0;32m    881\u001b[0m         \u001b[0mP\u001b[0m \u001b[1;33m*=\u001b[0m \u001b[0mself\u001b[0m\u001b[1;33m.\u001b[0m\u001b[0mearly_exaggeration\u001b[0m\u001b[1;33m\u001b[0m\u001b[1;33m\u001b[0m\u001b[0m\n\u001b[0;32m    882\u001b[0m         params, kl_divergence, it = _gradient_descent(obj_func, params,\n\u001b[1;32m--> 883\u001b[1;33m                                                       **opt_args)\n\u001b[0m\u001b[0;32m    884\u001b[0m         \u001b[1;32mif\u001b[0m \u001b[0mself\u001b[0m\u001b[1;33m.\u001b[0m\u001b[0mverbose\u001b[0m\u001b[1;33m:\u001b[0m\u001b[1;33m\u001b[0m\u001b[1;33m\u001b[0m\u001b[0m\n\u001b[0;32m    885\u001b[0m             print(\"[t-SNE] KL divergence after %d iterations with early \"\n",
      "\u001b[1;32mC:\\anaconda3\\lib\\site-packages\\sklearn\\manifold\\_t_sne.py\u001b[0m in \u001b[0;36m_gradient_descent\u001b[1;34m(objective, p0, it, n_iter, n_iter_check, n_iter_without_progress, momentum, learning_rate, min_gain, min_grad_norm, verbose, args, kwargs)\u001b[0m\n\u001b[0;32m    361\u001b[0m         \u001b[0mkwargs\u001b[0m\u001b[1;33m[\u001b[0m\u001b[1;34m'compute_error'\u001b[0m\u001b[1;33m]\u001b[0m \u001b[1;33m=\u001b[0m \u001b[0mcheck_convergence\u001b[0m \u001b[1;32mor\u001b[0m \u001b[0mi\u001b[0m \u001b[1;33m==\u001b[0m \u001b[0mn_iter\u001b[0m \u001b[1;33m-\u001b[0m \u001b[1;36m1\u001b[0m\u001b[1;33m\u001b[0m\u001b[1;33m\u001b[0m\u001b[0m\n\u001b[0;32m    362\u001b[0m \u001b[1;33m\u001b[0m\u001b[0m\n\u001b[1;32m--> 363\u001b[1;33m         \u001b[0merror\u001b[0m\u001b[1;33m,\u001b[0m \u001b[0mgrad\u001b[0m \u001b[1;33m=\u001b[0m \u001b[0mobjective\u001b[0m\u001b[1;33m(\u001b[0m\u001b[0mp\u001b[0m\u001b[1;33m,\u001b[0m \u001b[1;33m*\u001b[0m\u001b[0margs\u001b[0m\u001b[1;33m,\u001b[0m \u001b[1;33m**\u001b[0m\u001b[0mkwargs\u001b[0m\u001b[1;33m)\u001b[0m\u001b[1;33m\u001b[0m\u001b[1;33m\u001b[0m\u001b[0m\n\u001b[0m\u001b[0;32m    364\u001b[0m         \u001b[0mgrad_norm\u001b[0m \u001b[1;33m=\u001b[0m \u001b[0mlinalg\u001b[0m\u001b[1;33m.\u001b[0m\u001b[0mnorm\u001b[0m\u001b[1;33m(\u001b[0m\u001b[0mgrad\u001b[0m\u001b[1;33m)\u001b[0m\u001b[1;33m\u001b[0m\u001b[1;33m\u001b[0m\u001b[0m\n\u001b[0;32m    365\u001b[0m \u001b[1;33m\u001b[0m\u001b[0m\n",
      "\u001b[1;32mC:\\anaconda3\\lib\\site-packages\\sklearn\\manifold\\_t_sne.py\u001b[0m in \u001b[0;36m_kl_divergence_bh\u001b[1;34m(params, P, degrees_of_freedom, n_samples, n_components, angle, skip_num_points, verbose, compute_error, num_threads)\u001b[0m\n\u001b[0;32m    265\u001b[0m                                       \u001b[0mdof\u001b[0m\u001b[1;33m=\u001b[0m\u001b[0mdegrees_of_freedom\u001b[0m\u001b[1;33m,\u001b[0m\u001b[1;33m\u001b[0m\u001b[1;33m\u001b[0m\u001b[0m\n\u001b[0;32m    266\u001b[0m                                       \u001b[0mcompute_error\u001b[0m\u001b[1;33m=\u001b[0m\u001b[0mcompute_error\u001b[0m\u001b[1;33m,\u001b[0m\u001b[1;33m\u001b[0m\u001b[1;33m\u001b[0m\u001b[0m\n\u001b[1;32m--> 267\u001b[1;33m                                       num_threads=num_threads)\n\u001b[0m\u001b[0;32m    268\u001b[0m     \u001b[0mc\u001b[0m \u001b[1;33m=\u001b[0m \u001b[1;36m2.0\u001b[0m \u001b[1;33m*\u001b[0m \u001b[1;33m(\u001b[0m\u001b[0mdegrees_of_freedom\u001b[0m \u001b[1;33m+\u001b[0m \u001b[1;36m1.0\u001b[0m\u001b[1;33m)\u001b[0m \u001b[1;33m/\u001b[0m \u001b[0mdegrees_of_freedom\u001b[0m\u001b[1;33m\u001b[0m\u001b[1;33m\u001b[0m\u001b[0m\n\u001b[0;32m    269\u001b[0m     \u001b[0mgrad\u001b[0m \u001b[1;33m=\u001b[0m \u001b[0mgrad\u001b[0m\u001b[1;33m.\u001b[0m\u001b[0mravel\u001b[0m\u001b[1;33m(\u001b[0m\u001b[1;33m)\u001b[0m\u001b[1;33m\u001b[0m\u001b[1;33m\u001b[0m\u001b[0m\n",
      "\u001b[1;31mKeyboardInterrupt\u001b[0m: "
     ]
    }
   ],
   "source": [
    "#Heat-map + grid search\n",
    "iterations = [250,300,400,500,700,800,1000,1200]\n",
    "perplexity = [5,10,15,20,25,30,35,40,45,50,80]\n",
    "scores_tsneonly = np.zeros((len(iterations),len(perplexity)))\n",
    "scores_tsneonly_avg = np.zeros((len(iterations),len(perplexity)))\n",
    "for i in range(10):\n",
    "    for idxp,perp in enumerate(perplexity):\n",
    "        for idxi,iter in enumerate(iterations):\n",
    "            #t-SNE\n",
    "            tsne = TSNE(n_components=2, verbose=1, perplexity=perp, n_iter=iter)\n",
    "            tsne_results = tsne.fit_transform(df_T.iloc[:,:-1].values)\n",
    "            #Classification with kNN\n",
    "            classifier=KNeighborsClassifier(n_neighbors=5)\n",
    "            data_tr, data_te, label_tr, label_te = model_selection.train_test_split(tsne_results, df.index, train_size = 0.6)\n",
    "            model = classifier.fit(data_tr, label_tr)\n",
    "            scores_tsneonly[idxi][idxp] = model.score(data_te, label_te)\n",
    "            #Plotting t-SNE embeddings\n",
    "            fig = plt.figure(figsize=(6, 6))\n",
    "            matplotlib.rcParams.update({'font.size':sizeAxis})\n",
    "            for i, label in enumerate(labels):\n",
    "                X_i = tsne_results[df.index == label]\n",
    "                plt.scatter(X_i[:, 0], X_i[:, 1], c=[colors[i]], label=label)\n",
    "            plt.legend()\n",
    "            plt.xlabel(\"pseudotime\", fontsize=14)\n",
    "            plt.ylabel(\"branching\", fontsize=14)\n",
    "            plt.title('T-SNE on Single-Cell qPCR data: perp = %d' %(perp)+', iter = %d' %(iter), fontsize=16)\n",
    "            plt.show()\n",
    "         \n",
    "    scores_tsneonly_avg +=scores_tsneonly\n",
    "scores_tsneonly_avg = scores_tsneonly_avg/10\n",
    "#Plotting heat-map\n",
    "matplotlib.rcParams.update({'font.size': 14})\n",
    "plt.imshow(scores_tsneonly_avg)\n",
    "\n",
    "ax = plt.gca();\n",
    "ax.set_xticks(np.arange(0, 11, 1));\n",
    "ax.set_yticks(np.arange(0, 8, 1));\n",
    "ax.set_xticklabels(perplexity);\n",
    "ax.set_yticklabels(iterations);\n",
    "\n",
    "cbar = plt.colorbar()\n",
    "cbar.set_label('Test classification accuracy')\n",
    "plt.xlabel('Perplexity')\n",
    "plt.ylabel('Number of iterations')\n",
    "plt.title "
   ]
  },
  {
   "cell_type": "code",
   "execution_count": 14,
   "metadata": {},
   "outputs": [
    {
     "name": "stdout",
     "output_type": "stream",
     "text": [
      "[t-SNE] Computing 136 nearest neighbors...\n",
      "[t-SNE] Indexed 437 samples in 0.000s...\n",
      "[t-SNE] Computed neighbors for 437 samples in 0.014s...\n",
      "[t-SNE] Computed conditional probabilities for sample 437 / 437\n",
      "[t-SNE] Mean sigma: 2.465115\n",
      "[t-SNE] KL divergence after 250 iterations with early exaggeration: 57.201626\n",
      "[t-SNE] KL divergence after 1000 iterations: 0.373418\n"
     ]
    }
   ],
   "source": [
    "#t-SNE output with a single set of parameters\n",
    "tsne = TSNE(n_components=2, verbose=1, perplexity=45, n_iter=1000)\n",
    "tsne_results = tsne.fit_transform(df_T.iloc[:,:-1].values)"
   ]
  },
  {
   "cell_type": "code",
   "execution_count": 15,
   "metadata": {},
   "outputs": [
    {
     "data": {
      "image/png": "[encoded data removed]",
      "text/plain": [
       "<Figure size 432x288 with 1 Axes>"
      ]
     },
     "metadata": {
      "needs_background": "light"
     },
     "output_type": "display_data"
    }
   ],
   "source": [
    "#Plotting t-SNE resulting embedding\n",
    "for i, label in enumerate(labels):\n",
    "    X_i = tsne_results[df.index == label]\n",
    "    plt.scatter(X_i[:, 0], X_i[:, 1], c=[colors[i]], label=label)\n",
    "plt.legend()\n",
    "plt.xlabel(\"pseudotime\", fontsize=14)\n",
    "plt.ylabel(\"branching\", fontsize=14)\n",
    "plt.title(\"T-SNE on Single-Cell qPCR data\", fontsize=16)\n",
    "plt.show()"
   ]
  },
  {
   "cell_type": "code",
   "execution_count": null,
   "metadata": {},
   "outputs": [],
   "source": []
  }
 ],
 "metadata": {
  "kernelspec": {
   "display_name": "Python 3",
   "language": "python",
   "name": "python3"
  },
  "language_info": {
   "codemirror_mode": {
    "name": "ipython",
    "version": 3
   },
   "file_extension": ".py",
   "mimetype": "text/x-python",
   "name": "python",
   "nbconvert_exporter": "python",
   "pygments_lexer": "ipython3",
   "version": "3.7.6"
  }
 },
 "nbformat": 4,
 "nbformat_minor": 4
}
