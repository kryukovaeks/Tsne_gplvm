{
 "cells": [
  {
   "cell_type": "markdown",
   "metadata": {},
   "source": [
    "# #The Labeled Faces in the Wild face recognition dataset¶"
   ]
  },
  {
   "cell_type": "code",
   "execution_count": 4,
   "metadata": {},
   "outputs": [],
   "source": [
    "import os\n",
    "\n",
    "os.environ['KMP_DUPLICATE_LIB_OK']='True'\n",
    "import pandas as pd\n",
    "import torch\n",
    "import numpy as np\n",
    "from torch.nn import Parameter\n",
    "import pyro\n",
    "import pyro.contrib.gp as gp\n",
    "import pyro.distributions as dist\n",
    "import pyro.ops.stats as stats\n",
    "from sklearn import model_selection, datasets\n",
    "from sklearn.manifold import TSNE\n",
    "from sklearn.decomposition import PCA\n",
    "from sklearn.linear_model import SGDClassifier\n",
    "assert pyro.__version__.startswith('1.6.0')\n",
    "pyro.set_rng_seed(1)\n",
    "import time as tm"
   ]
  },
  {
   "cell_type": "code",
   "execution_count": 2,
   "metadata": {},
   "outputs": [],
   "source": [
    "#Load Faces dataset\n",
    "faces = datasets.fetch_lfw_people() # 5828D, 13233 points"
   ]
  },
  {
   "cell_type": "code",
   "execution_count": 3,
   "metadata": {},
   "outputs": [
    {
     "name": "stdout",
     "output_type": "stream",
     "text": [
      "5.149921655654907\n",
      "[t-SNE] Computing 136 nearest neighbors...\n",
      "[t-SNE] Indexed 13233 samples in 0.043s...\n",
      "[t-SNE] Computed neighbors for 13233 samples in 20.707s...\n",
      "[t-SNE] Computed conditional probabilities for sample 1000 / 13233\n",
      "[t-SNE] Computed conditional probabilities for sample 2000 / 13233\n",
      "[t-SNE] Computed conditional probabilities for sample 3000 / 13233\n",
      "[t-SNE] Computed conditional probabilities for sample 4000 / 13233\n",
      "[t-SNE] Computed conditional probabilities for sample 5000 / 13233\n",
      "[t-SNE] Computed conditional probabilities for sample 6000 / 13233\n",
      "[t-SNE] Computed conditional probabilities for sample 7000 / 13233\n",
      "[t-SNE] Computed conditional probabilities for sample 8000 / 13233\n",
      "[t-SNE] Computed conditional probabilities for sample 9000 / 13233\n",
      "[t-SNE] Computed conditional probabilities for sample 10000 / 13233\n",
      "[t-SNE] Computed conditional probabilities for sample 11000 / 13233\n",
      "[t-SNE] Computed conditional probabilities for sample 12000 / 13233\n",
      "[t-SNE] Computed conditional probabilities for sample 13000 / 13233\n",
      "[t-SNE] Computed conditional probabilities for sample 13233 / 13233\n",
      "[t-SNE] Mean sigma: 485.953878\n",
      "[t-SNE] KL divergence after 250 iterations with early exaggeration: 91.630074\n",
      "[t-SNE] KL divergence after 400 iterations: 3.409543\n",
      "63.06255054473877\n"
     ]
    }
   ],
   "source": [
    "#Perform PCA on data and measure time elapsed\n",
    "pca = PCA(n_components=50)\n",
    "start = tm.time()\n",
    "X_reduced = pca.fit_transform(faces.data)\n",
    "end = tm.time()\n",
    "print(end-start)\n",
    "#Perform t-SNE on the reduced/original data and measure elapsed time\n",
    "start = tm.time()\n",
    "tsne = TSNE(n_components=2, verbose=1, perplexity=45, n_iter=400)\n",
    "reduced_digits_TSNE = tsne.fit_transform(faces.data)\n",
    "end = tm.time()\n",
    "print(end - start)"
   ]
  },
  {
   "cell_type": "code",
   "execution_count": 3,
   "metadata": {},
   "outputs": [
    {
     "name": "stdout",
     "output_type": "stream",
     "text": [
      "160.3063690662384\n"
     ]
    }
   ],
   "source": [
    "#GPLVM on faces dataset and elapsed time measure \n",
    "#Jupyter Notebook kernel needs to be restarted for testing with other parameters\n",
    "y = torch.Tensor(faces.target.transpose())\n",
    "X_prior_mean = torch.zeros(y.size(0), 2)  # shape: 13233 x 2\n",
    "capture_time = y.new_tensor(faces.target)\n",
    "time1 = capture_time\n",
    "X_prior_mean[:, 0] = time1\n",
    "Xu = stats.resample(X_prior_mean.clone(),16)\n",
    "kernel = gp.kernels.RBF(input_dim=2, lengthscale=torch.ones(2))\n",
    "\n",
    "# we clone here so that we don't change our prior during the course of training\n",
    "X = Parameter(X_prior_mean.clone())\n",
    "kernel = gp.kernels.RBF(input_dim=2, lengthscale=torch.ones(2))\n",
    "gplvm1 = gp.models.SparseGPRegression(X, y, kernel,Xu,noise=torch.tensor(0.01), jitter=1e-5)\n",
    "gplvm1.X = pyro.nn.PyroSample(dist.Normal(X, 0.01).to_event())\n",
    "gplvm1.autoguide(\"X\", dist.Normal)\n",
    "start = tm.time()\n",
    "losses = gp.util.train(gplvm1, num_steps=4000)\n",
    "end = tm.time()\n",
    "print(end - start)"
   ]
  },
  {
   "cell_type": "code",
   "execution_count": null,
   "metadata": {},
   "outputs": [],
   "source": []
  }
 ],
 "metadata": {
  "kernelspec": {
   "display_name": "Python 3",
   "language": "python",
   "name": "python3"
  },
  "language_info": {
   "codemirror_mode": {
    "name": "ipython",
    "version": 3
   },
   "file_extension": ".py",
   "mimetype": "text/x-python",
   "name": "python",
   "nbconvert_exporter": "python",
   "pygments_lexer": "ipython3",
   "version": "3.7.6"
  }
 },
 "nbformat": 4,
 "nbformat_minor": 4
}
